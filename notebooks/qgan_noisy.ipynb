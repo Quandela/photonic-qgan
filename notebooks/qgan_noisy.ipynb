{
 "cells": [
  {
   "cell_type": "code",
   "execution_count": 1,
   "metadata": {},
   "outputs": [],
   "source": [
    "import shutil\n",
    "import os\n",
    "import json\n",
    "import torch\n",
    "import numpy as np\n",
    "import perceval as pcvl\n",
    "import torchvision.transforms as transforms\n",
    "\n",
    "from torch.utils.data import RandomSampler\n",
    "from tqdm.notebook import tqdm\n",
    "\n",
    "import sys; sys.path.insert(0, '..')\n",
    "from models.qgan import QGAN\n",
    "from helpers.data.digits import DigitsDataset"
   ]
  },
  {
   "cell_type": "code",
   "execution_count": 2,
   "metadata": {},
   "outputs": [],
   "source": [
    "# definitions and constants\n",
    "image_size = 8\n",
    "batch_size = 4\n",
    "lossy = True\n",
    "write_to_disk=True\n",
    "\n",
    "# optimization params\n",
    "spsa_iter_num = 10500\n",
    "opt_iter_num = 1500\n",
    "lrD = 0.0015\n",
    "opt_params={\"spsa_iter_num\": spsa_iter_num, \"opt_iter_num\": opt_iter_num}"
   ]
  },
  {
   "cell_type": "code",
   "execution_count": 3,
   "metadata": {},
   "outputs": [],
   "source": [
    "# define desired run configurations\n",
    "config = {\n",
    "    \"noise_dim\": 1, \n",
    "    \"arch\": [\"var\", \"var\", \"enc[2]\", \"var\", \"var\"],\n",
    "    \"input_state\": [0, 1, 0, 1, 0],\n",
    "    \"gen_count\": 8,\n",
    "    \"pnr\": False\n",
    "}\n",
    "\n",
    "# {\"noise_dim\": 2, \"arch\": [\"var\", \"var\", \"enc[1, 4]\", \"var\", \"var\"], \"input_state\": [0, 1, 0, 0, 1, 0], \"gen_count\": 4, \"pnr\": False}\n",
    "\n",
    "\n",
    "runs = 10"
   ]
  },
  {
   "cell_type": "code",
   "execution_count": 4,
   "metadata": {},
   "outputs": [],
   "source": [
    "dataset = DigitsDataset(csv_file=\"../helpers/data/optdigits_csv.csv\", transform = transforms.Compose([transforms.ToTensor()]))\n",
    "sampler = RandomSampler(dataset, replacement=True, num_samples=batch_size * opt_iter_num)\n",
    "dataloader = torch.utils.data.DataLoader(\n",
    "    dataset, batch_size=batch_size, drop_last=True, sampler=sampler\n",
    ")"
   ]
  },
  {
   "cell_type": "code",
   "execution_count": 5,
   "metadata": {},
   "outputs": [
    {
     "data": {
      "application/vnd.jupyter.widget-view+json": {
       "model_id": "75c4e717d486431b86b74da2e9434019",
       "version_major": 2,
       "version_minor": 0
      },
      "text/plain": [
       "run:   0%|          | 0/1000 [00:00<?, ?it/s]"
      ]
     },
     "metadata": {},
     "output_type": "display_data"
    },
    {
     "data": {
      "application/vnd.jupyter.widget-view+json": {
       "model_id": "b9f83727b91d4bd3a28e2fba72c45a03",
       "version_major": 2,
       "version_minor": 0
      },
      "text/plain": [
       "iter:   0%|          | 0/1500 [00:00<?, ?it/s]"
      ]
     },
     "metadata": {},
     "output_type": "display_data"
    },
    {
     "data": {
      "application/vnd.jupyter.widget-view+json": {
       "model_id": "4143e14bb6cf41cfb9e8b39ca92fd559",
       "version_major": 2,
       "version_minor": 0
      },
      "text/plain": [
       "iter:   0%|          | 0/1500 [00:00<?, ?it/s]"
      ]
     },
     "metadata": {},
     "output_type": "display_data"
    },
    {
     "data": {
      "application/vnd.jupyter.widget-view+json": {
       "model_id": "b16fe28cde1e449fb9807297c4cac3fe",
       "version_major": 2,
       "version_minor": 0
      },
      "text/plain": [
       "iter:   0%|          | 0/1500 [00:00<?, ?it/s]"
      ]
     },
     "metadata": {},
     "output_type": "display_data"
    },
    {
     "data": {
      "application/vnd.jupyter.widget-view+json": {
       "model_id": "d263cd2e9e69442599bef04d6395856d",
       "version_major": 2,
       "version_minor": 0
      },
      "text/plain": [
       "iter:   0%|          | 0/1500 [00:00<?, ?it/s]"
      ]
     },
     "metadata": {},
     "output_type": "display_data"
    },
    {
     "data": {
      "application/vnd.jupyter.widget-view+json": {
       "model_id": "99ba4e1cea0745db90e5e2806c2cb912",
       "version_major": 2,
       "version_minor": 0
      },
      "text/plain": [
       "iter:   0%|          | 0/1500 [00:00<?, ?it/s]"
      ]
     },
     "metadata": {},
     "output_type": "display_data"
    },
    {
     "data": {
      "application/vnd.jupyter.widget-view+json": {
       "model_id": "23c0582fc1374d1a9fad3542c3b48978",
       "version_major": 2,
       "version_minor": 0
      },
      "text/plain": [
       "iter:   0%|          | 0/1500 [00:00<?, ?it/s]"
      ]
     },
     "metadata": {},
     "output_type": "display_data"
    },
    {
     "data": {
      "application/vnd.jupyter.widget-view+json": {
       "model_id": "0a5ddbcff0714a72a4a339c8e8ecf8ff",
       "version_major": 2,
       "version_minor": 0
      },
      "text/plain": [
       "iter:   0%|          | 0/1500 [00:00<?, ?it/s]"
      ]
     },
     "metadata": {},
     "output_type": "display_data"
    },
    {
     "data": {
      "application/vnd.jupyter.widget-view+json": {
       "model_id": "7ab9603eeb3143a6bb0eedcf78f22a5e",
       "version_major": 2,
       "version_minor": 0
      },
      "text/plain": [
       "iter:   0%|          | 0/1500 [00:00<?, ?it/s]"
      ]
     },
     "metadata": {},
     "output_type": "display_data"
    },
    {
     "data": {
      "application/vnd.jupyter.widget-view+json": {
       "model_id": "3435797a890b4c9b87de9dd511e56bc7",
       "version_major": 2,
       "version_minor": 0
      },
      "text/plain": [
       "iter:   0%|          | 0/1500 [00:00<?, ?it/s]"
      ]
     },
     "metadata": {},
     "output_type": "display_data"
    },
    {
     "data": {
      "application/vnd.jupyter.widget-view+json": {
       "model_id": "5a19979cef2d4dbc992da5cf8b0afdcf",
       "version_major": 2,
       "version_minor": 0
      },
      "text/plain": [
       "iter:   0%|          | 0/1500 [00:00<?, ?it/s]"
      ]
     },
     "metadata": {},
     "output_type": "display_data"
    }
   ],
   "source": [
    "# clear save path for the results\n",
    "path = \"./noisy/\"\n",
    "\n",
    "if os.path.isdir(path):\n",
    "    shutil.rmtree(path)\n",
    "os.makedirs(path)\n",
    "\n",
    "with open(os.path.join(path, \"config.json\"), \"w\") as f:\n",
    "    f.write(json.dumps(config))\n",
    "\n",
    "gen_arch = config[\"arch\"]\n",
    "noise_dim = config[\"noise_dim\"]\n",
    "input_state = config[\"input_state\"]\n",
    "pnr = config[\"pnr\"]\n",
    "gen_count = config[\"gen_count\"]\n",
    "\n",
    "run_num = 0\n",
    "# several runs to average over\n",
    "for i in tqdm(range(1000), desc=\"run\", position=0, leave=False):\n",
    "    if run_num == runs:\n",
    "        break\n",
    "    run_num += 1\n",
    "\n",
    "    save_path = path + \"run_\" + str(run_num)\n",
    "    os.makedirs(save_path)\n",
    "    try:\n",
    "        qgan = QGAN(\n",
    "            image_size,\n",
    "            gen_count,\n",
    "            gen_arch,\n",
    "            pcvl.BasicState(input_state),\n",
    "            noise_dim,\n",
    "            batch_size,\n",
    "            pnr,\n",
    "            lossy\n",
    "        )\n",
    "        (\n",
    "            D_loss_progress,\n",
    "            G_loss_progress,\n",
    "            G_params_progress,\n",
    "            fake_data_progress,\n",
    "        ) = qgan.fit(\n",
    "            tqdm(dataloader, desc=\"iter\", position=2, leave=False),\n",
    "            lrD,\n",
    "            opt_params,\n",
    "            silent=True,\n",
    "        )\n",
    "\n",
    "        if write_to_disk:\n",
    "            np.savetxt(\n",
    "                os.path.join(save_path, \"fake_progress.csv\"),\n",
    "                fake_data_progress,\n",
    "                delimiter=\",\",\n",
    "            )\n",
    "            np.savetxt(\n",
    "                os.path.join(save_path, \"loss_progress.csv\"),\n",
    "                np.array(np.array([D_loss_progress, G_loss_progress]).transpose()),\n",
    "                delimiter=\",\",\n",
    "                header=\"D_loss, G_loss\",\n",
    "            )\n",
    "            np.savetxt(\n",
    "                os.path.join(save_path, \"G_params_progress.csv\"),\n",
    "                np.array(G_params_progress),\n",
    "                delimiter=\",\",\n",
    "            )\n",
    "\n",
    "    except Exception as exc:\n",
    "        print(exc)\n",
    "        shutil.rmtree(save_path)\n",
    "        run_num -= 1\n",
    "\n"
   ]
  },
  {
   "cell_type": "code",
   "execution_count": null,
   "metadata": {},
   "outputs": [],
   "source": [
    " "
   ]
  }
 ],
 "metadata": {
  "kernelspec": {
   "display_name": "Python 3 (ipykernel)",
   "language": "python",
   "name": "python3"
  },
  "language_info": {
   "codemirror_mode": {
    "name": "ipython",
    "version": 3
   },
   "file_extension": ".py",
   "mimetype": "text/x-python",
   "name": "python",
   "nbconvert_exporter": "python",
   "pygments_lexer": "ipython3",
   "version": "3.11.5"
  }
 },
 "nbformat": 4,
 "nbformat_minor": 2
}
